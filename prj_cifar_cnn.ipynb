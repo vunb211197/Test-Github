{
 "metadata": {
  "language_info": {
   "codemirror_mode": {
    "name": "ipython",
    "version": 3
   },
   "file_extension": ".py",
   "mimetype": "text/x-python",
   "name": "python",
   "nbconvert_exporter": "python",
   "pygments_lexer": "ipython3",
   "version": "3.6.8-final"
  },
  "orig_nbformat": 2,
  "kernelspec": {
   "name": "python_defaultSpec_1597635960831",
   "display_name": "Python 3.6.8 64-bit"
  }
 },
 "nbformat": 4,
 "nbformat_minor": 2,
 "cells": [
  {
   "cell_type": "code",
   "execution_count": 21,
   "metadata": {
    "tags": []
   },
   "outputs": [],
   "source": [
    "#1 Import các thư viện cần thiết cho bài toán \n",
    "import numpy as np\n",
    "from keras.datasets import cifar10\n",
    "from keras.utils import np_utils\n",
    "\n",
    "from keras.models import Sequential\n",
    "from keras.layers import Dense, Dropout, Activation, Flatten\n",
    "from keras.layers import Conv2D, MaxPooling2D\n",
    "import matplotlib.pyplot as plt"
   ]
  },
  {
   "cell_type": "code",
   "execution_count": 24,
   "metadata": {},
   "outputs": [],
   "source": [
    "images=['airplane','automobile','bird','cat','deer','dog','frog','horse','ship','truck']"
   ]
  },
  {
   "cell_type": "code",
   "execution_count": 12,
   "metadata": {
    "tags": []
   },
   "outputs": [
    {
     "output_type": "stream",
     "name": "stdout",
     "text": "(50000, 32, 32, 3)\n(50000, 1)\n"
    }
   ],
   "source": [
    "#2 Load dữ liệu mnist\n",
    "(X_train,y_train),(X_test,y_test)=cifar10.load_data()\n",
    "print(X_train.shape)\n",
    "print(y_train.shape)\n"
   ]
  },
  {
   "cell_type": "code",
   "execution_count": 13,
   "metadata": {
    "tags": []
   },
   "outputs": [
    {
     "output_type": "stream",
     "name": "stdout",
     "text": "(50000, 32, 32, 3)\n(40000, 32, 32, 3)\n(40000, 1)\n(10000, 32, 32, 3)\n(10000, 1)\n"
    }
   ],
   "source": [
    "print(X_train.shape)\n",
    "#chia thành 2 tập train data và validation data\n",
    "X_val, y_val = X_train[40000:50000], y_train[40000:50000]\n",
    "X_train, y_train = X_train[:40000], y_train[:40000]\n",
    "print(X_train.shape)\n",
    "print(y_train.shape)\n",
    "print(X_val.shape)\n",
    "print(y_val.shape)"
   ]
  },
  {
   "cell_type": "code",
   "execution_count": 14,
   "metadata": {
    "tags": []
   },
   "outputs": [
    {
     "output_type": "stream",
     "name": "stdout",
     "text": "Dữ liệu y ban đầu  [6]\nDữ liệu y sau one-hot encoding  [0. 0. 0. 0. 0. 0. 1. 0. 0. 0.]\n"
    }
   ],
   "source": [
    "# 4. One hot encoding label (Y)\n",
    "Y_train = np_utils.to_categorical(y_train, 10)\n",
    "print(Y_train.shape)\n",
    "Y_val = np_utils.to_categorical(y_val, 10)\n",
    "Y_test = np_utils.to_categorical(y_test, 10)\n",
    "print('Dữ liệu y ban đầu ', y_train[0])\n",
    "print('Dữ liệu y sau one-hot encoding ',Y_train[0])"
   ]
  },
  {
   "cell_type": "code",
   "execution_count": 15,
   "metadata": {
    "tags": []
   },
   "outputs": [],
   "source": [
    "#5 Định nghĩa model\n",
    "model = Sequential()\n",
    "\n",
    "#Thêm covolutional layer với 32 kernel . kích thước kernel 3*3\n",
    "#dùng hàm sigmod làm activation và chỉ rõ input_shape cho layer đầu tiên \n",
    "model.add(Conv2D(32, (3, 3), activation='sigmoid', input_shape=(32,32,3)))\n",
    "\n",
    "#thêm convolutional layer nữa\n",
    "model.add(Conv2D(32,(3,3),activation='sigmoid'))\n",
    "\n",
    "# Thêm Max pooling layer\n",
    "model.add(MaxPooling2D(pool_size=(2,2)))\n",
    "\n",
    "# Flatten layer chuyển từ tensor sang vector\n",
    "model.add(Flatten())\n",
    "\n",
    "# Thêm Fully Connected layer với 128 nodes và dùng hàm sigmoid\n",
    "model.add(Dense(128, activation='sigmoid'))\n",
    "# Output layer với 10 node và dùng softmax function để chuyển sang xác suất.\n",
    "model.add(Dense(10, activation='softmax'))\n"
   ]
  },
  {
   "cell_type": "code",
   "execution_count": 16,
   "metadata": {
    "tags": []
   },
   "outputs": [],
   "source": [
    "# 6. Compile model, chỉ rõ hàm loss_function nào được sử dụng, phương thức\n",
    "# đùng để tối ưu hàm loss function.\n",
    "model.compile(loss='categorical_crossentropy',\n",
    "optimizer='adam',\n",
    "metrics=['accuracy'])"
   ]
  },
  {
   "cell_type": "code",
   "execution_count": 17,
   "metadata": {
    "tags": []
   },
   "outputs": [
    {
     "output_type": "stream",
     "name": "stdout",
     "text": "Train on 40000 samples, validate on 10000 samples\nEpoch 1/10\n40000/40000 [==============================] - 94s 2ms/step - loss: 1.7793 - acc: 0.3485 - val_loss: 1.4097 - val_acc: 0.4932\nEpoch 2/10\n40000/40000 [==============================] - 87s 2ms/step - loss: 1.2112 - acc: 0.5702 - val_loss: 1.1544 - val_acc: 0.5958\nEpoch 3/10\n40000/40000 [==============================] - 90s 2ms/step - loss: 0.9853 - acc: 0.6535 - val_loss: 1.0646 - val_acc: 0.6312\nEpoch 4/10\n40000/40000 [==============================] - 79s 2ms/step - loss: 0.8339 - acc: 0.7109 - val_loss: 0.9808 - val_acc: 0.6589\nEpoch 5/10\n40000/40000 [==============================] - 82s 2ms/step - loss: 0.6985 - acc: 0.7612 - val_loss: 0.9943 - val_acc: 0.6635\nEpoch 6/10\n40000/40000 [==============================] - 85s 2ms/step - loss: 0.5684 - acc: 0.8119 - val_loss: 0.9680 - val_acc: 0.6698\nEpoch 7/10\n40000/40000 [==============================] - 89s 2ms/step - loss: 0.4456 - acc: 0.8580 - val_loss: 0.9863 - val_acc: 0.6755\nEpoch 8/10\n40000/40000 [==============================] - 97s 2ms/step - loss: 0.3326 - acc: 0.9023 - val_loss: 1.0467 - val_acc: 0.6681\nEpoch 9/10\n40000/40000 [==============================] - 96s 2ms/step - loss: 0.2369 - acc: 0.9404 - val_loss: 1.0861 - val_acc: 0.6704\nEpoch 10/10\n40000/40000 [==============================] - 96s 2ms/step - loss: 0.1625 - acc: 0.9646 - val_loss: 1.1891 - val_acc: 0.6611\n"
    }
   ],
   "source": [
    "# 7. Thực hiện train model với data\n",
    "H = model.fit(X_train, Y_train, validation_data=(X_val, Y_val),\n",
    "batch_size=32, epochs=10, verbose=1)"
   ]
  },
  {
   "cell_type": "code",
   "execution_count": 19,
   "metadata": {
    "tags": []
   },
   "outputs": [
    {
     "output_type": "stream",
     "name": "stdout",
     "text": "10000/10000 [==============================] - 3s 272us/step\n[1.2122885398864747, 0.6498]\n"
    }
   ],
   "source": [
    "score = model.evaluate(X_test,Y_test)\n",
    "print(score)"
   ]
  },
  {
   "cell_type": "code",
   "execution_count": 30,
   "metadata": {
    "tags": []
   },
   "outputs": [
    {
     "output_type": "stream",
     "name": "stdout",
     "text": "Giá trị dự đoán:  dog\n"
    },
    {
     "output_type": "display_data",
     "data": {
      "text/plain": "<Figure size 432x288 with 1 Axes>",
      "image/svg+xml": "<?xml version=\"1.0\" encoding=\"utf-8\" standalone=\"no\"?>\r\n<!DOCTYPE svg PUBLIC \"-//W3C//DTD SVG 1.1//EN\"\r\n  \"http://www.w3.org/Graphics/SVG/1.1/DTD/svg11.dtd\">\r\n<!-- Created with matplotlib (https://matplotlib.org/) -->\r\n<svg height=\"248.919844pt\" version=\"1.1\" viewBox=\"0 0 251.565 248.919844\" width=\"251.565pt\" xmlns=\"http://www.w3.org/2000/svg\" xmlns:xlink=\"http://www.w3.org/1999/xlink\">\r\n <metadata>\r\n  <rdf:RDF xmlns:cc=\"http://creativecommons.org/ns#\" xmlns:dc=\"http://purl.org/dc/elements/1.1/\" xmlns:rdf=\"http://www.w3.org/1999/02/22-rdf-syntax-ns#\">\r\n   <cc:Work>\r\n    <dc:type rdf:resource=\"http://purl.org/dc/dcmitype/StillImage\"/>\r\n    <dc:date>2020-08-17T11:33:50.692968</dc:date>\r\n    <dc:format>image/svg+xml</dc:format>\r\n    <dc:creator>\r\n     <cc:Agent>\r\n      <dc:title>Matplotlib v3.3.0, https://matplotlib.org/</dc:title>\r\n     </cc:Agent>\r\n    </dc:creator>\r\n   </cc:Work>\r\n  </rdf:RDF>\r\n </metadata>\r\n <defs>\r\n  <style type=\"text/css\">*{stroke-linecap:butt;stroke-linejoin:round;}</style>\r\n </defs>\r\n <g id=\"figure_1\">\r\n  <g id=\"patch_1\">\r\n   <path d=\"M 0 248.919844 \r\nL 251.565 248.919844 \r\nL 251.565 0 \r\nL 0 0 \r\nz\r\n\" style=\"fill:none;\"/>\r\n  </g>\r\n  <g id=\"axes_1\">\r\n   <g id=\"patch_2\">\r\n    <path d=\"M 26.925 225.041719 \r\nL 244.365 225.041719 \r\nL 244.365 7.601719 \r\nL 26.925 7.601719 \r\nz\r\n\" style=\"fill:#ffffff;\"/>\r\n   </g>\r\n   <g clip-path=\"url(#p2a7d5b6a33)\">\r\n    <image height=\"218\" id=\"imageb49942e0ff\" transform=\"scale(1 -1)translate(0 -218)\" width=\"218\" x=\"26.925\" xlink:href=\"data:image/png;base64,\r\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\" y=\"-7.041719\"/>\r\n   </g>\r\n   <g id=\"matplotlib.axis_1\">\r\n    <g id=\"xtick_1\">\r\n     <g id=\"line2d_1\">\r\n      <defs>\r\n       <path d=\"M 0 0 \r\nL 0 3.5 \r\n\" id=\"m4f589f8da7\" style=\"stroke:#000000;stroke-width:0.8;\"/>\r\n      </defs>\r\n      <g>\r\n       <use style=\"stroke:#000000;stroke-width:0.8;\" x=\"30.3225\" xlink:href=\"#m4f589f8da7\" y=\"225.041719\"/>\r\n      </g>\r\n     </g>\r\n     <g id=\"text_1\">\r\n      <!-- 0 -->\r\n      <g transform=\"translate(27.14125 239.640156)scale(0.1 -0.1)\">\r\n       <defs>\r\n        <path d=\"M 31.78125 66.40625 \r\nQ 24.171875 66.40625 20.328125 58.90625 \r\nQ 16.5 51.421875 16.5 36.375 \r\nQ 16.5 21.390625 20.328125 13.890625 \r\nQ 24.171875 6.390625 31.78125 6.390625 \r\nQ 39.453125 6.390625 43.28125 13.890625 \r\nQ 47.125 21.390625 47.125 36.375 \r\nQ 47.125 51.421875 43.28125 58.90625 \r\nQ 39.453125 66.40625 31.78125 66.40625 \r\nz\r\nM 31.78125 74.21875 \r\nQ 44.046875 74.21875 50.515625 64.515625 \r\nQ 56.984375 54.828125 56.984375 36.375 \r\nQ 56.984375 17.96875 50.515625 8.265625 \r\nQ 44.046875 -1.421875 31.78125 -1.421875 \r\nQ 19.53125 -1.421875 13.0625 8.265625 \r\nQ 6.59375 17.96875 6.59375 36.375 \r\nQ 6.59375 54.828125 13.0625 64.515625 \r\nQ 19.53125 74.21875 31.78125 74.21875 \r\nz\r\n\" id=\"DejaVuSans-48\"/>\r\n       </defs>\r\n       <use xlink:href=\"#DejaVuSans-48\"/>\r\n      </g>\r\n     </g>\r\n    </g>\r\n    <g id=\"xtick_2\">\r\n     <g id=\"line2d_2\">\r\n      <g>\r\n       <use style=\"stroke:#000000;stroke-width:0.8;\" x=\"64.2975\" xlink:href=\"#m4f589f8da7\" y=\"225.041719\"/>\r\n      </g>\r\n     </g>\r\n     <g id=\"text_2\">\r\n      <!-- 5 -->\r\n      <g transform=\"translate(61.11625 239.640156)scale(0.1 -0.1)\">\r\n       <defs>\r\n        <path d=\"M 10.796875 72.90625 \r\nL 49.515625 72.90625 \r\nL 49.515625 64.59375 \r\nL 19.828125 64.59375 \r\nL 19.828125 46.734375 \r\nQ 21.96875 47.46875 24.109375 47.828125 \r\nQ 26.265625 48.1875 28.421875 48.1875 \r\nQ 40.625 48.1875 47.75 41.5 \r\nQ 54.890625 34.8125 54.890625 23.390625 \r\nQ 54.890625 11.625 47.5625 5.09375 \r\nQ 40.234375 -1.421875 26.90625 -1.421875 \r\nQ 22.3125 -1.421875 17.546875 -0.640625 \r\nQ 12.796875 0.140625 7.71875 1.703125 \r\nL 7.71875 11.625 \r\nQ 12.109375 9.234375 16.796875 8.0625 \r\nQ 21.484375 6.890625 26.703125 6.890625 \r\nQ 35.15625 6.890625 40.078125 11.328125 \r\nQ 45.015625 15.765625 45.015625 23.390625 \r\nQ 45.015625 31 40.078125 35.4375 \r\nQ 35.15625 39.890625 26.703125 39.890625 \r\nQ 22.75 39.890625 18.8125 39.015625 \r\nQ 14.890625 38.140625 10.796875 36.28125 \r\nz\r\n\" id=\"DejaVuSans-53\"/>\r\n       </defs>\r\n       <use xlink:href=\"#DejaVuSans-53\"/>\r\n      </g>\r\n     </g>\r\n    </g>\r\n    <g id=\"xtick_3\">\r\n     <g id=\"line2d_3\">\r\n      <g>\r\n       <use style=\"stroke:#000000;stroke-width:0.8;\" x=\"98.2725\" xlink:href=\"#m4f589f8da7\" y=\"225.041719\"/>\r\n      </g>\r\n     </g>\r\n     <g id=\"text_3\">\r\n      <!-- 10 -->\r\n      <g transform=\"translate(91.91 239.640156)scale(0.1 -0.1)\">\r\n       <defs>\r\n        <path d=\"M 12.40625 8.296875 \r\nL 28.515625 8.296875 \r\nL 28.515625 63.921875 \r\nL 10.984375 60.40625 \r\nL 10.984375 69.390625 \r\nL 28.421875 72.90625 \r\nL 38.28125 72.90625 \r\nL 38.28125 8.296875 \r\nL 54.390625 8.296875 \r\nL 54.390625 0 \r\nL 12.40625 0 \r\nz\r\n\" id=\"DejaVuSans-49\"/>\r\n       </defs>\r\n       <use xlink:href=\"#DejaVuSans-49\"/>\r\n       <use x=\"63.623047\" xlink:href=\"#DejaVuSans-48\"/>\r\n      </g>\r\n     </g>\r\n    </g>\r\n    <g id=\"xtick_4\">\r\n     <g id=\"line2d_4\">\r\n      <g>\r\n       <use style=\"stroke:#000000;stroke-width:0.8;\" x=\"132.2475\" xlink:href=\"#m4f589f8da7\" y=\"225.041719\"/>\r\n      </g>\r\n     </g>\r\n     <g id=\"text_4\">\r\n      <!-- 15 -->\r\n      <g transform=\"translate(125.885 239.640156)scale(0.1 -0.1)\">\r\n       <use xlink:href=\"#DejaVuSans-49\"/>\r\n       <use x=\"63.623047\" xlink:href=\"#DejaVuSans-53\"/>\r\n      </g>\r\n     </g>\r\n    </g>\r\n    <g id=\"xtick_5\">\r\n     <g id=\"line2d_5\">\r\n      <g>\r\n       <use style=\"stroke:#000000;stroke-width:0.8;\" x=\"166.2225\" xlink:href=\"#m4f589f8da7\" y=\"225.041719\"/>\r\n      </g>\r\n     </g>\r\n     <g id=\"text_5\">\r\n      <!-- 20 -->\r\n      <g transform=\"translate(159.86 239.640156)scale(0.1 -0.1)\">\r\n       <defs>\r\n        <path d=\"M 19.1875 8.296875 \r\nL 53.609375 8.296875 \r\nL 53.609375 0 \r\nL 7.328125 0 \r\nL 7.328125 8.296875 \r\nQ 12.9375 14.109375 22.625 23.890625 \r\nQ 32.328125 33.6875 34.8125 36.53125 \r\nQ 39.546875 41.84375 41.421875 45.53125 \r\nQ 43.3125 49.21875 43.3125 52.78125 \r\nQ 43.3125 58.59375 39.234375 62.25 \r\nQ 35.15625 65.921875 28.609375 65.921875 \r\nQ 23.96875 65.921875 18.8125 64.3125 \r\nQ 13.671875 62.703125 7.8125 59.421875 \r\nL 7.8125 69.390625 \r\nQ 13.765625 71.78125 18.9375 73 \r\nQ 24.125 74.21875 28.421875 74.21875 \r\nQ 39.75 74.21875 46.484375 68.546875 \r\nQ 53.21875 62.890625 53.21875 53.421875 \r\nQ 53.21875 48.921875 51.53125 44.890625 \r\nQ 49.859375 40.875 45.40625 35.40625 \r\nQ 44.1875 33.984375 37.640625 27.21875 \r\nQ 31.109375 20.453125 19.1875 8.296875 \r\nz\r\n\" id=\"DejaVuSans-50\"/>\r\n       </defs>\r\n       <use xlink:href=\"#DejaVuSans-50\"/>\r\n       <use x=\"63.623047\" xlink:href=\"#DejaVuSans-48\"/>\r\n      </g>\r\n     </g>\r\n    </g>\r\n    <g id=\"xtick_6\">\r\n     <g id=\"line2d_6\">\r\n      <g>\r\n       <use style=\"stroke:#000000;stroke-width:0.8;\" x=\"200.1975\" xlink:href=\"#m4f589f8da7\" y=\"225.041719\"/>\r\n      </g>\r\n     </g>\r\n     <g id=\"text_6\">\r\n      <!-- 25 -->\r\n      <g transform=\"translate(193.835 239.640156)scale(0.1 -0.1)\">\r\n       <use xlink:href=\"#DejaVuSans-50\"/>\r\n       <use x=\"63.623047\" xlink:href=\"#DejaVuSans-53\"/>\r\n      </g>\r\n     </g>\r\n    </g>\r\n    <g id=\"xtick_7\">\r\n     <g id=\"line2d_7\">\r\n      <g>\r\n       <use style=\"stroke:#000000;stroke-width:0.8;\" x=\"234.1725\" xlink:href=\"#m4f589f8da7\" y=\"225.041719\"/>\r\n      </g>\r\n     </g>\r\n     <g id=\"text_7\">\r\n      <!-- 30 -->\r\n      <g transform=\"translate(227.81 239.640156)scale(0.1 -0.1)\">\r\n       <defs>\r\n        <path d=\"M 40.578125 39.3125 \r\nQ 47.65625 37.796875 51.625 33 \r\nQ 55.609375 28.21875 55.609375 21.1875 \r\nQ 55.609375 10.40625 48.1875 4.484375 \r\nQ 40.765625 -1.421875 27.09375 -1.421875 \r\nQ 22.515625 -1.421875 17.65625 -0.515625 \r\nQ 12.796875 0.390625 7.625 2.203125 \r\nL 7.625 11.71875 \r\nQ 11.71875 9.328125 16.59375 8.109375 \r\nQ 21.484375 6.890625 26.8125 6.890625 \r\nQ 36.078125 6.890625 40.9375 10.546875 \r\nQ 45.796875 14.203125 45.796875 21.1875 \r\nQ 45.796875 27.640625 41.28125 31.265625 \r\nQ 36.765625 34.90625 28.71875 34.90625 \r\nL 20.21875 34.90625 \r\nL 20.21875 43.015625 \r\nL 29.109375 43.015625 \r\nQ 36.375 43.015625 40.234375 45.921875 \r\nQ 44.09375 48.828125 44.09375 54.296875 \r\nQ 44.09375 59.90625 40.109375 62.90625 \r\nQ 36.140625 65.921875 28.71875 65.921875 \r\nQ 24.65625 65.921875 20.015625 65.03125 \r\nQ 15.375 64.15625 9.8125 62.3125 \r\nL 9.8125 71.09375 \r\nQ 15.4375 72.65625 20.34375 73.4375 \r\nQ 25.25 74.21875 29.59375 74.21875 \r\nQ 40.828125 74.21875 47.359375 69.109375 \r\nQ 53.90625 64.015625 53.90625 55.328125 \r\nQ 53.90625 49.265625 50.4375 45.09375 \r\nQ 46.96875 40.921875 40.578125 39.3125 \r\nz\r\n\" id=\"DejaVuSans-51\"/>\r\n       </defs>\r\n       <use xlink:href=\"#DejaVuSans-51\"/>\r\n       <use x=\"63.623047\" xlink:href=\"#DejaVuSans-48\"/>\r\n      </g>\r\n     </g>\r\n    </g>\r\n   </g>\r\n   <g id=\"matplotlib.axis_2\">\r\n    <g id=\"ytick_1\">\r\n     <g id=\"line2d_8\">\r\n      <defs>\r\n       <path d=\"M 0 0 \r\nL -3.5 0 \r\n\" id=\"m3ce2b2ea15\" style=\"stroke:#000000;stroke-width:0.8;\"/>\r\n      </defs>\r\n      <g>\r\n       <use style=\"stroke:#000000;stroke-width:0.8;\" x=\"26.925\" xlink:href=\"#m3ce2b2ea15\" y=\"10.999219\"/>\r\n      </g>\r\n     </g>\r\n     <g id=\"text_8\">\r\n      <!-- 0 -->\r\n      <g transform=\"translate(13.5625 14.798437)scale(0.1 -0.1)\">\r\n       <use xlink:href=\"#DejaVuSans-48\"/>\r\n      </g>\r\n     </g>\r\n    </g>\r\n    <g id=\"ytick_2\">\r\n     <g id=\"line2d_9\">\r\n      <g>\r\n       <use style=\"stroke:#000000;stroke-width:0.8;\" x=\"26.925\" xlink:href=\"#m3ce2b2ea15\" y=\"44.974219\"/>\r\n      </g>\r\n     </g>\r\n     <g id=\"text_9\">\r\n      <!-- 5 -->\r\n      <g transform=\"translate(13.5625 48.773437)scale(0.1 -0.1)\">\r\n       <use xlink:href=\"#DejaVuSans-53\"/>\r\n      </g>\r\n     </g>\r\n    </g>\r\n    <g id=\"ytick_3\">\r\n     <g id=\"line2d_10\">\r\n      <g>\r\n       <use style=\"stroke:#000000;stroke-width:0.8;\" x=\"26.925\" xlink:href=\"#m3ce2b2ea15\" y=\"78.949219\"/>\r\n      </g>\r\n     </g>\r\n     <g id=\"text_10\">\r\n      <!-- 10 -->\r\n      <g transform=\"translate(7.2 82.748437)scale(0.1 -0.1)\">\r\n       <use xlink:href=\"#DejaVuSans-49\"/>\r\n       <use x=\"63.623047\" xlink:href=\"#DejaVuSans-48\"/>\r\n      </g>\r\n     </g>\r\n    </g>\r\n    <g id=\"ytick_4\">\r\n     <g id=\"line2d_11\">\r\n      <g>\r\n       <use style=\"stroke:#000000;stroke-width:0.8;\" x=\"26.925\" xlink:href=\"#m3ce2b2ea15\" y=\"112.924219\"/>\r\n      </g>\r\n     </g>\r\n     <g id=\"text_11\">\r\n      <!-- 15 -->\r\n      <g transform=\"translate(7.2 116.723437)scale(0.1 -0.1)\">\r\n       <use xlink:href=\"#DejaVuSans-49\"/>\r\n       <use x=\"63.623047\" xlink:href=\"#DejaVuSans-53\"/>\r\n      </g>\r\n     </g>\r\n    </g>\r\n    <g id=\"ytick_5\">\r\n     <g id=\"line2d_12\">\r\n      <g>\r\n       <use style=\"stroke:#000000;stroke-width:0.8;\" x=\"26.925\" xlink:href=\"#m3ce2b2ea15\" y=\"146.899219\"/>\r\n      </g>\r\n     </g>\r\n     <g id=\"text_12\">\r\n      <!-- 20 -->\r\n      <g transform=\"translate(7.2 150.698437)scale(0.1 -0.1)\">\r\n       <use xlink:href=\"#DejaVuSans-50\"/>\r\n       <use x=\"63.623047\" xlink:href=\"#DejaVuSans-48\"/>\r\n      </g>\r\n     </g>\r\n    </g>\r\n    <g id=\"ytick_6\">\r\n     <g id=\"line2d_13\">\r\n      <g>\r\n       <use style=\"stroke:#000000;stroke-width:0.8;\" x=\"26.925\" xlink:href=\"#m3ce2b2ea15\" y=\"180.874219\"/>\r\n      </g>\r\n     </g>\r\n     <g id=\"text_13\">\r\n      <!-- 25 -->\r\n      <g transform=\"translate(7.2 184.673437)scale(0.1 -0.1)\">\r\n       <use xlink:href=\"#DejaVuSans-50\"/>\r\n       <use x=\"63.623047\" xlink:href=\"#DejaVuSans-53\"/>\r\n      </g>\r\n     </g>\r\n    </g>\r\n    <g id=\"ytick_7\">\r\n     <g id=\"line2d_14\">\r\n      <g>\r\n       <use style=\"stroke:#000000;stroke-width:0.8;\" x=\"26.925\" xlink:href=\"#m3ce2b2ea15\" y=\"214.849219\"/>\r\n      </g>\r\n     </g>\r\n     <g id=\"text_14\">\r\n      <!-- 30 -->\r\n      <g transform=\"translate(7.2 218.648437)scale(0.1 -0.1)\">\r\n       <use xlink:href=\"#DejaVuSans-51\"/>\r\n       <use x=\"63.623047\" xlink:href=\"#DejaVuSans-48\"/>\r\n      </g>\r\n     </g>\r\n    </g>\r\n   </g>\r\n   <g id=\"patch_3\">\r\n    <path d=\"M 26.925 225.041719 \r\nL 26.925 7.601719 \r\n\" style=\"fill:none;stroke:#000000;stroke-linecap:square;stroke-linejoin:miter;stroke-width:0.8;\"/>\r\n   </g>\r\n   <g id=\"patch_4\">\r\n    <path d=\"M 244.365 225.041719 \r\nL 244.365 7.601719 \r\n\" style=\"fill:none;stroke:#000000;stroke-linecap:square;stroke-linejoin:miter;stroke-width:0.8;\"/>\r\n   </g>\r\n   <g id=\"patch_5\">\r\n    <path d=\"M 26.925 225.041719 \r\nL 244.365 225.041719 \r\n\" style=\"fill:none;stroke:#000000;stroke-linecap:square;stroke-linejoin:miter;stroke-width:0.8;\"/>\r\n   </g>\r\n   <g id=\"patch_6\">\r\n    <path d=\"M 26.925 7.601719 \r\nL 244.365 7.601719 \r\n\" style=\"fill:none;stroke:#000000;stroke-linecap:square;stroke-linejoin:miter;stroke-width:0.8;\"/>\r\n   </g>\r\n  </g>\r\n </g>\r\n <defs>\r\n  <clipPath id=\"p2a7d5b6a33\">\r\n   <rect height=\"217.44\" width=\"217.44\" x=\"26.925\" y=\"7.601719\"/>\r\n  </clipPath>\r\n </defs>\r\n</svg>\r\n",
      "image/png": "[encoded data removed]"
     },
     "metadata": {
      "needs_background": "light"
     }
    }
   ],
   "source": [
    "# 10. Dự đoán ảnh\n",
    "plt.imshow(X_test[950])\n",
    "y_predict = model.predict(X_test[950].reshape(1,32,32,3))\n",
    "print('Giá trị dự đoán: ', images[np.argmax(y_predict)])"
   ]
  },
  {
   "cell_type": "code",
   "execution_count": null,
   "metadata": {},
   "outputs": [],
   "source": []
  }
 ]
}